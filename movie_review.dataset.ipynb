{
 "cells": [
  {
   "cell_type": "heading",
   "metadata": {
    "collapsed": true
   },
   "level": 1,
   "source": [
    "Investigate implementation of the Movie Reviews dataset"
   ]
  },
  {
   "cell_type": "code",
   "execution_count": 4,
   "metadata": {
    "collapsed": true
   },
   "outputs": [],
   "source": [
    "import torchtext.data as data\n",
    "from src import movie_reviews_dataset"
   ]
  },
  {
   "cell_type": "code",
   "execution_count": 13,
   "metadata": {
    "collapsed": true
   },
   "outputs": [
    {
     "name": "stdout",
     "output_type": "stream",
     "text": [
      "loading dataset\n"
     ]
    },
    {
     "name": "stdout",
     "output_type": "stream",
     "text": [
      "len(train) 8530\nlen(dev) 2132\n['as', 'a', 'witness', 'to', 'several', 'greek american', 'weddings', '', 'but', ',', 'happily', ',', 'a', 'victim', 'of', 'none', '', 'i', 'can', 'testify', 'to', 'the', 'comparative', 'accuracy', 'of', 'ms', '', \"vardalos'\", 'memories', 'and', 'insights', '']\n"
     ]
    }
   ],
   "source": [
    "text_field = data.Field(lower=True)\n",
    "label_field = data.Field(sequential=False)\n",
    "\n",
    "print('loading dataset')\n",
    "train_data, dev_data = movie_reviews_dataset.MR.splits(text_field, label_field, root='./data', dev_ratio=.2)\n",
    "\n",
    "print('len(train)', len(train_data))\n",
    "print('len(dev)', len(dev_data))\n",
    "\n",
    "print(train_data.examples[0].text)"
   ]
  },
  {
   "cell_type": "markdown",
   "metadata": {},
   "source": [
    "Construct the vocabulary"
   ]
  },
  {
   "cell_type": "code",
   "execution_count": 25,
   "metadata": {
    "collapsed": true
   },
   "outputs": [
    {
     "name": "stdout",
     "output_type": "stream",
     "text": [
      "text_field.vocab.size 21109\nlabel_field.vocab.size 3\n"
     ]
    }
   ],
   "source": [
    "text_field.build_vocab(train_data, dev_data)\n",
    "label_field.build_vocab(train_data, dev_data)\n",
    "\n",
    "print('text_field.vocab.size', len(text_field.vocab))\n",
    "print('label_field.vocab.size', len(label_field.vocab))"
   ]
  },
  {
   "cell_type": "code",
   "execution_count": 59,
   "metadata": {},
   "outputs": [],
   "source": [
    "train_iter, dev_iter = data.Iterator.splits((train_data, dev_data), \n",
    "                                            batch_sizes=(8, len(dev_data)), device=-1, repeat=False)"
   ]
  },
  {
   "cell_type": "code",
   "execution_count": 60,
   "metadata": {},
   "outputs": [
    {
     "name": "stdout",
     "output_type": "stream",
     "text": [
      "0 ['skins', 'has', 'a', 'right', 'to', 'yawp', ',', 'and', 'we', 'have', 'a', 'right', 'to', 'our', 'grains', 'of', 'salt', '', '<pad>', '<pad>', '<pad>', '<pad>', '<pad>', '<pad>', '<pad>', '<pad>']\n1 ['dilbert', 'without', 'the', 'right on', 'satiric', 'humor', '', '<pad>', '<pad>', '<pad>', '<pad>', '<pad>', '<pad>', '<pad>', '<pad>', '<pad>', '<pad>', '<pad>', '<pad>', '<pad>', '<pad>', '<pad>', '<pad>', '<pad>', '<pad>', '<pad>']\n2 ['new', 'yorkers', 'always', 'seem', 'to', 'find', 'the', 'oddest', 'places', 'to', 'dwell', '', '', '', '<pad>', '<pad>', '<pad>', '<pad>', '<pad>', '<pad>', '<pad>', '<pad>', '<pad>', '<pad>', '<pad>', '<pad>']\n3 ['less', 'a', 'study', 'in', 'madness', 'or', 'love', 'than', 'a', 'study', 'in', 'schoolgirl', 'obsession', '', '<pad>', '<pad>', '<pad>', '<pad>', '<pad>', '<pad>', '<pad>', '<pad>', '<pad>', '<pad>', '<pad>', '<pad>']\n4 ['changing', 'lanes', 'is', 'an', 'anomaly', 'for', 'a', 'hollywood', 'movie', '', \"it 's\", 'a', 'well written', 'and', 'occasionally', 'challenging', 'social', 'drama', 'that', 'actually', 'has', 'something', 'interesting', 'to', 'say', '']\n5 ['bleakly', 'funny', ',', 'its', 'characters', 'all', 'the', 'more', 'touching', 'for', 'refusing', 'to', 'pity', 'or', 'memorialize', 'themselves', '', '<pad>', '<pad>', '<pad>', '<pad>', '<pad>', '<pad>', '<pad>', '<pad>', '<pad>']\n6 ['a', 'slick', ',', 'skillful', 'little', 'horror', 'film', '', '<pad>', '<pad>', '<pad>', '<pad>', '<pad>', '<pad>', '<pad>', '<pad>', '<pad>', '<pad>', '<pad>', '<pad>', '<pad>', '<pad>', '<pad>', '<pad>', '<pad>', '<pad>']\n7 ['kudos', 'to', 'the', 'most', 'enchanting', 'film', 'of', 'the', 'year', '', '<pad>', '<pad>', '<pad>', '<pad>', '<pad>', '<pad>', '<pad>', '<pad>', '<pad>', '<pad>', '<pad>', '<pad>', '<pad>', '<pad>', '<pad>', '<pad>']\n"
     ]
    }
   ],
   "source": [
    "batch = next(iter(train_iter))\n",
    "batch.text.data.t_()\n",
    "\n",
    "for i in range(8):\n",
    "    sample = batch.text.data[i, :]\n",
    "    print(i, [text_field.vocab.itos[num] for num in sample])"
   ]
  },
  {
   "cell_type": "code",
   "execution_count": null,
   "metadata": {},
   "outputs": [],
   "source": [
    ""
   ]
  }
 ],
 "metadata": {
  "kernelspec": {
   "display_name": "Python 2",
   "language": "python",
   "name": "python2"
  },
  "language_info": {
   "codemirror_mode": {
    "name": "ipython",
    "version": 2.0
   },
   "file_extension": ".py",
   "mimetype": "text/x-python",
   "name": "python",
   "nbconvert_exporter": "python",
   "pygments_lexer": "ipython2",
   "version": "2.7.6"
  }
 },
 "nbformat": 4,
 "nbformat_minor": 0
}