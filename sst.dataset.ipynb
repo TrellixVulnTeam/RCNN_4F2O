{
 "cells": [
  {
   "cell_type": "code",
   "execution_count": 1,
   "metadata": {
    "collapsed": true
   },
   "outputs": [],
   "source": [
    "from torchtext import data\n",
    "from torchtext import datasets"
   ]
  },
  {
   "cell_type": "code",
   "execution_count": 9,
   "metadata": {},
   "outputs": [
    {
     "name": "stdout",
     "output_type": "stream",
     "text": [
      "train.fields {'text': <torchtext.data.Field object at 0x7f56fb7ef9b0>, 'label': <torchtext.data.Field object at 0x7f56fb7ef128>}\nlen(train) 98794\nvars(train[0]) {'text': ['The', 'Rock', 'is', 'destined', 'to', 'be', 'the', '21st', 'Century', \"'s\", 'new', '``', 'Conan', \"''\", 'and', 'that', 'he', \"'s\", 'going', 'to', 'make', 'a', 'splash', 'even', 'greater', 'than', 'Arnold', 'Schwarzenegger', ',', 'Jean-Claud', 'Van', 'Damme', 'or', 'Steven', 'Segal', '.'], 'label': 'positive'}\n"
     ]
    }
   ],
   "source": [
    "TEXT = data.Field()\n",
    "LABEL = data.Field(sequential=False)\n",
    "\n",
    "# make splits for data\n",
    "train, val, test = datasets.SST.splits(\n",
    "    TEXT, LABEL, fine_grained=True, train_subtrees=True,\n",
    "    filter_pred=lambda ex: ex.label != 'neutral')\n",
    "\n",
    "# print information about the data\n",
    "print('train.fields', train.fields)\n",
    "print('len(train)', len(train))\n",
    "print('vars(train[0])', vars(train[0]))"
   ]
  },
  {
   "cell_type": "code",
   "execution_count": 18,
   "metadata": {},
   "outputs": [
    {
     "name": "stdout",
     "output_type": "stream",
     "text": [
      "loading word vectors from /home/val/PycharmProjects/rcnn/glove.6B.300d.pt\n"
     ]
    },
    {
     "name": "stdout",
     "output_type": "stream",
     "text": [
      "len(TEXT.vocab) 18003\nTEXT.vocab.vectors.size() torch.Size([18003, 300])\nlen(LABEL.vocab) 5\n"
     ]
    }
   ],
   "source": [
    "# build the vocabulary\n",
    "\n",
    "TEXT.build_vocab(train, wv_type='glove.6B')\n",
    "LABEL.build_vocab(train)\n",
    "\n",
    "# print vocab information\n",
    "print('len(TEXT.vocab)', len(TEXT.vocab))\n",
    "print('TEXT.vocab.vectors.size()', TEXT.vocab.vectors.size())\n",
    "\n",
    "print('len(LABEL.vocab)', len(LABEL.vocab))"
   ]
  },
  {
   "cell_type": "code",
   "execution_count": 22,
   "metadata": {},
   "outputs": [
    {
     "name": "stdout",
     "output_type": "stream",
     "text": [
      "Variable containing:\n 12160      6     46   1133     10\n     3      4      3   6043   1359\n 11480   7063   1877     33      4\n  1507   3322      5      3  10216\n    11   2544   1080  12191      6\n  2441      5    198      6      4\n  1093   1644   1191   3994   3418\n   240   5052      6      9     20\n     7     11     19  11789     11\n    42  10130    872   6003    607\n  9447      7      6      6     15\n 10862  15042  10342     16      4\n     8   5841  10356   1975   3264\n[torch.LongTensor of size 13x5]\n\nVariable containing:\n 1\n 2\n 2\n 3\n 1\n[torch.LongTensor of size 5]\n\n"
     ]
    }
   ],
   "source": [
    "# make iterator for splits\n",
    "train_iter, val_iter, test_iter = data.BucketIterator.splits(\n",
    "    (train, val, test), batch_size=5, device=-1)\n",
    "\n",
    "# print batch information\n",
    "batch = next(iter(train_iter))\n",
    "print(batch.text)\n",
    "print(batch.label)"
   ]
  },
  {
   "cell_type": "code",
   "execution_count": 23,
   "metadata": {},
   "outputs": [],
   "source": [
    ""
   ]
  },
  {
   "cell_type": "code",
   "execution_count": 21,
   "metadata": {},
   "outputs": [],
   "source": [
    ""
   ]
  },
  {
   "cell_type": "code",
   "execution_count": null,
   "metadata": {},
   "outputs": [],
   "source": [
    ""
   ]
  }
 ],
 "metadata": {
  "kernelspec": {
   "display_name": "Python 2",
   "language": "python",
   "name": "python2"
  },
  "language_info": {
   "codemirror_mode": {
    "name": "ipython",
    "version": 2.0
   },
   "file_extension": ".py",
   "mimetype": "text/x-python",
   "name": "python",
   "nbconvert_exporter": "python",
   "pygments_lexer": "ipython2",
   "version": "2.7.6"
  }
 },
 "nbformat": 4,
 "nbformat_minor": 0
}