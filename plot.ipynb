{
 "cells": [
  {
   "cell_type": "code",
   "execution_count": 8,
   "metadata": {
    "collapsed": true
   },
   "outputs": [
    {
     "name": "stdout",
     "output_type": "stream",
     "text": [
      "Created ./snapshots/cnn/2017-03-13_12-45-30/loss.png\n"
     ]
    },
    {
     "name": "stdout",
     "output_type": "stream",
     "text": [
      "Created ./snapshots/cnn/2017-03-13_12-45-30/error.png\nCreated ./snapshots/cnn/2017-03-13_12-45-30/loss-error.png\n"
     ]
    }
   ],
   "source": [
    "import os\n",
    "import numpy as np\n",
    "\n",
    "import matplotlib as mpl\n",
    "mpl.use('Agg')\n",
    "import matplotlib.pyplot as plt\n",
    "plt.style.use('bmh')\n",
    "\n",
    "\n",
    "expDir = './snapshots'\n",
    "\n",
    "\n",
    "def create_plots(folder):\n",
    "    trainP = os.path.join(expDir, folder, 'train.csv')\n",
    "    trainData = np.loadtxt(trainP, delimiter=',').reshape(-1, 5)[:, :3]\n",
    "    testP = os.path.join(expDir, folder, 'test.csv')\n",
    "    testData = np.loadtxt(testP, delimiter=',').reshape(-1, 5)[:, :3]\n",
    "\n",
    "    N = 392*2 # Rolling loss over the past epoch.\n",
    "\n",
    "    trainI, trainLoss, trainErr = np.split(trainData, [1, 2], axis=1)\n",
    "\n",
    "    testI, testLoss, testErr = np.split(testData, [1, 2], axis=1)\n",
    "    \n",
    "    fig, ax = plt.subplots(1, 1, figsize=(6, 5))\n",
    "    plt.plot(trainI, trainLoss, label='Train')\n",
    "    plt.plot(testI, testLoss, label='Test')\n",
    "    plt.xlabel('Epoch')\n",
    "    plt.ylabel('Cross-Entropy Loss')\n",
    "    plt.legend()\n",
    "    ax.set_yscale('log')\n",
    "    loss_fname = os.path.join(expDir,  folder, 'loss.png')\n",
    "    plt.savefig(loss_fname)\n",
    "    print('Created {}'.format(loss_fname))\n",
    "\n",
    "    fig, ax = plt.subplots(1, 1, figsize=(6, 5))\n",
    "    plt.plot(trainI, trainErr, label='Train')\n",
    "    plt.plot(testI, testErr, label='Test')\n",
    "    plt.xlabel('Epoch')\n",
    "    plt.ylabel('Error')\n",
    "    ax.set_yscale('log')\n",
    "    plt.legend()\n",
    "    err_fname = os.path.join(expDir, folder, 'error.png')\n",
    "    plt.savefig(err_fname)\n",
    "    print('Created {}'.format(err_fname))\n",
    "\n",
    "    loss_err_fname = os.path.join(expDir, folder, 'loss-error.png')\n",
    "    os.system('convert +append {} {} {}'.format(loss_fname, err_fname, loss_err_fname))\n",
    "    print('Created {}'.format(loss_err_fname))\n",
    "\n",
    "create_plots('cnn/2017-03-13_12-45-30')"
   ]
  },
  {
   "cell_type": "code",
   "execution_count": null,
   "metadata": {},
   "outputs": [],
   "source": [
    ""
   ]
  }
 ],
 "metadata": {
  "kernelspec": {
   "display_name": "Python 2",
   "language": "python",
   "name": "python2"
  },
  "language_info": {
   "codemirror_mode": {
    "name": "ipython",
    "version": 2.0
   },
   "file_extension": ".py",
   "mimetype": "text/x-python",
   "name": "python",
   "nbconvert_exporter": "python",
   "pygments_lexer": "ipython2",
   "version": "2.7.6"
  }
 },
 "nbformat": 4,
 "nbformat_minor": 0
}