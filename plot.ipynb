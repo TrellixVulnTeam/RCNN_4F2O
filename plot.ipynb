{
 "cells": [
  {
   "cell_type": "code",
   "execution_count": 14,
   "metadata": {
    "collapsed": true
   },
   "outputs": [
    {
     "name": "stdout",
     "output_type": "stream",
     "text": [
      "Created ./snapshots/cnn/2017-03-11_21-01-14/loss.png\n[[  100.]\n [  200.]\n [  300.]\n [  400.]\n [  500.]\n [  600.]\n [  700.]\n [  800.]\n [  900.]\n [ 1000.]\n [ 1100.]\n [ 1200.]\n [ 1300.]\n [ 1400.]\n [ 1500.]\n [ 1600.]\n [ 1700.]\n [ 1800.]\n [ 1900.]\n [ 2000.]\n [ 2100.]\n [ 2200.]\n [ 2300.]\n [ 2400.]\n [ 2500.]]\n[[ 53.42105263]\n [ 57.89473684]\n [ 66.57894737]\n [ 72.63157895]\n [ 79.47368421]\n [ 79.21052632]\n [ 86.84210526]\n [ 84.47368421]\n [ 91.05263158]\n [ 92.63157895]\n [ 94.21052632]\n [ 93.68421053]\n [ 95.26315789]\n [ 96.05263158]\n [ 96.31578947]\n [ 96.05263158]\n [ 96.84210526]\n [ 97.36842105]\n [ 97.10526316]\n [ 97.63157895]\n [ 98.15789474]\n [ 97.63157895]\n [ 98.94736842]\n [ 97.89473684]\n [ 99.21052632]]\n"
     ]
    },
    {
     "name": "stdout",
     "output_type": "stream",
     "text": [
      "Created ./snapshots/cnn/2017-03-11_21-01-14/error.png\nCreated ./snapshots/cnn/2017-03-11_21-01-14/loss-error.png\n"
     ]
    }
   ],
   "source": [
    "import os\n",
    "import numpy as np\n",
    "\n",
    "import matplotlib as mpl\n",
    "mpl.use('Agg')\n",
    "import matplotlib.pyplot as plt\n",
    "plt.style.use('bmh')\n",
    "\n",
    "\n",
    "def rolling(N, i, loss, err):\n",
    "    i_ = i[N-1:]\n",
    "    K = np.full(N, 1./N)\n",
    "    loss_ = np.convolve(loss, K, 'valid')\n",
    "    err_ = np.convolve(err, K, 'valid')\n",
    "    return i_, loss_, err_\n",
    "\n",
    "\n",
    "expDir = './snapshots'\n",
    "\n",
    "\n",
    "def create_plots(folder):\n",
    "    trainP = os.path.join(expDir, folder, 'train.csv')\n",
    "    trainData = np.loadtxt(trainP, delimiter=',').reshape(-1, 5)[:, :3]\n",
    "    testP = os.path.join(expDir, folder, 'test.csv')\n",
    "    testData = np.loadtxt(testP, delimiter=',').reshape(-1, 5)[:, :3]\n",
    "\n",
    "    N = 392*2 # Rolling loss over the past epoch.\n",
    "\n",
    "    trainI, trainLoss, trainErr = np.split(trainData, [1, 2], axis=1)\n",
    "    #trainI, trainLoss, trainErr = [x.ravel() for x in\n",
    "    #                               (trainI, trainLoss, trainErr)]\n",
    "    #trainI_, trainLoss_, trainErr_ = rolling(N, trainI, trainLoss, trainErr)\n",
    "\n",
    "    testI, testLoss, testErr = np.split(testData, [1, 2], axis=1)\n",
    "    \n",
    "    fig, ax = plt.subplots(1, 1, figsize=(6, 5))\n",
    "    plt.plot(trainI, trainLoss, label='Train')\n",
    "    # plt.plot(trainI_, trainLoss_, label='Train')\n",
    "    plt.plot(testI, testLoss, label='Test')\n",
    "    plt.xlabel('Epoch')\n",
    "    plt.ylabel('Cross-Entropy Loss')\n",
    "    plt.legend()\n",
    "    ax.set_yscale('log')\n",
    "    loss_fname = os.path.join(expDir,  folder, 'loss.png')\n",
    "    plt.savefig(loss_fname)\n",
    "    print('Created {}'.format(loss_fname))\n",
    "\n",
    "    fig, ax = plt.subplots(1, 1, figsize=(6, 5))\n",
    "    print(trainI)\n",
    "    print(trainErr)\n",
    "    plt.plot(trainI, trainErr, label='Train')\n",
    "    # plt.plot(trainI_, trainErr_, label='Train')\n",
    "    plt.plot(testI, testErr, label='Test')\n",
    "    plt.xlabel('Epoch')\n",
    "    plt.ylabel('Error')\n",
    "    ax.set_yscale('log')\n",
    "    plt.legend()\n",
    "    err_fname = os.path.join(expDir, folder, 'error.png')\n",
    "    plt.savefig(err_fname)\n",
    "    print('Created {}'.format(err_fname))\n",
    "\n",
    "    loss_err_fname = os.path.join(expDir, folder, 'loss-error.png')\n",
    "    os.system('convert +append {} {} {}'.format(loss_fname, err_fname, loss_err_fname))\n",
    "    print('Created {}'.format(loss_err_fname))\n",
    "\n",
    "create_plots('cnn/2017-03-11_21-01-14')"
   ]
  },
  {
   "cell_type": "code",
   "execution_count": null,
   "metadata": {},
   "outputs": [],
   "source": [
    ""
   ]
  }
 ],
 "metadata": {
  "kernelspec": {
   "display_name": "Python 2",
   "language": "python",
   "name": "python2"
  },
  "language_info": {
   "codemirror_mode": {
    "name": "ipython",
    "version": 2.0
   },
   "file_extension": ".py",
   "mimetype": "text/x-python",
   "name": "python",
   "nbconvert_exporter": "python",
   "pygments_lexer": "ipython2",
   "version": "2.7.6"
  }
 },
 "nbformat": 4,
 "nbformat_minor": 0
}