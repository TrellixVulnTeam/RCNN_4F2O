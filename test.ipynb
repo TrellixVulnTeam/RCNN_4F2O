{
 "cells": [
  {
   "cell_type": "code",
   "execution_count": 3,
   "metadata": {
    "collapsed": true
   },
   "outputs": [],
   "source": [
    "from __future__ import print_function\n",
    "import torch"
   ]
  },
  {
   "cell_type": "code",
   "execution_count": 22,
   "metadata": {},
   "outputs": [
    {
     "name": "stdout",
     "output_type": "stream",
     "text": [
      "\n-3.4191e+09  4.5743e-41 -3.4191e+09\n 4.5743e-41         nan  3.3707e-01\n 2.5643e-09  6.5191e-10  1.0442e-08\n 4.2958e-05  1.6517e-04  1.0084e-11\n 6.4894e-10  2.1532e+23  2.1685e-04\n[torch.FloatTensor of size 5x3]\n \n1.00000e-10 *\n  6.5191\n[torch.FloatTensor of size 1]\n\n"
     ]
    }
   ],
   "source": [
    "x = torch.Tensor(5,3)\n",
    "y = torch.rand(5,3)\n",
    "print(x, x[2:3,1])"
   ]
  },
  {
   "cell_type": "code",
   "execution_count": 17,
   "metadata": {},
   "outputs": [],
   "source": [
    ""
   ]
  },
  {
   "cell_type": "code",
   "execution_count": null,
   "metadata": {},
   "outputs": [],
   "source": [
    ""
   ]
  }
 ],
 "metadata": {
  "kernelspec": {
   "display_name": "Python 2",
   "language": "python",
   "name": "python2"
  },
  "language_info": {
   "codemirror_mode": {
    "name": "ipython",
    "version": 2.0
   },
   "file_extension": ".py",
   "mimetype": "text/x-python",
   "name": "python",
   "nbconvert_exporter": "python",
   "pygments_lexer": "ipython2",
   "version": "2.7.6"
  }
 },
 "nbformat": 4,
 "nbformat_minor": 0
}