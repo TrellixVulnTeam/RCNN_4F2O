{
 "cells": [
  {
   "cell_type": "code",
   "execution_count": 1,
   "metadata": {
    "collapsed": true
   },
   "outputs": [],
   "source": [
    "import os\n",
    "import datetime\n",
    "import torch\n",
    "import torch.nn.functional as F\n",
    "import torchtext.data as data\n",
    "from src import obj_dict, movie_reviews_dataset, model_cnn, train\n",
    "\n",
    "args = obj_dict.objdict({\n",
    "    'batch_size': 1024,\n",
    "    'cuda': True and torch.cuda.is_available(),\n",
    "    'device': 0,\n",
    "    'epochs': 250,\n",
    "    'save_dir': './snapshots/cnn/',\n",
    "    'static': False,\n",
    "    'kernel_sizes': [3, 4, 5],\n",
    "    'embed_dim': 300,\n",
    "    'kernel_num': 100,\n",
    "    'dropout': 0.5,\n",
    "    'lr': 0.001,\n",
    "    'log_interval': 100,\n",
    "    'test_interval': 100,\n",
    "    'save_interval': 500\n",
    "})"
   ]
  },
  {
   "cell_type": "markdown",
   "metadata": {},
   "source": [
    "Setup Movie Reviews data set loader"
   ]
  },
  {
   "cell_type": "code",
   "execution_count": 2,
   "metadata": {},
   "outputs": [
    {
     "name": "stdout",
     "output_type": "stream",
     "text": [
      "{'batch_size': 1024, 'cuda': True, 'device': 0, 'epochs': 250, 'save_dir': './snapshots/cnn/', 'static': False, 'kernel_sizes': [3, 4, 5], 'embed_dim': 300, 'kernel_num': 100, 'dropout': 0.5, 'lr': 0.001, 'log_interval': 100, 'test_interval': 100, 'save_interval': 500}\n\nLoading data...\n"
     ]
    },
    {
     "name": "stdout",
     "output_type": "stream",
     "text": [
      "Loaded 21109 samples\n"
     ]
    }
   ],
   "source": [
    "# load MR dataset\n",
    "def mr(text_field, label_field, **kargs):\n",
    "    train_data, dev_data = movie_reviews_dataset.MR.splits(text_field, label_field, root='./data')\n",
    "    text_field.build_vocab(train_data, dev_data)\n",
    "    label_field.build_vocab(train_data, dev_data)\n",
    "    train_iter, dev_iter = data.Iterator.splits(\n",
    "        (train_data, dev_data),\n",
    "        batch_sizes=(args.batch_size, len(dev_data)),\n",
    "        **kargs)\n",
    "    return train_iter, dev_iter\n",
    "\n",
    "print(args)\n",
    "\n",
    "# load data\n",
    "print(\"\\nLoading data...\")\n",
    "text_field = data.Field(lower=True)\n",
    "label_field = data.Field(sequential=False)\n",
    "train_iter, dev_iter = mr(text_field, label_field, device=args.device if args.cuda else -1, repeat=False)\n",
    "print(\"Loaded\", len(text_field.vocab), \"samples\")"
   ]
  },
  {
   "cell_type": "code",
   "execution_count": 3,
   "metadata": {
    "collapsed": true
   },
   "outputs": [
    {
     "name": "stdout",
     "output_type": "stream",
     "text": [
      "\rBatch[100] - loss: 0.694310  acc: 53.4211%(203/380)\nEvaluation - loss: 0.689329  acc: 51.8762%(553/1066) \n\n"
     ]
    }
   ],
   "source": [
    "args.embed_num = len(text_field.vocab)\n",
    "args.class_num = len(label_field.vocab) - 1\n",
    "\n",
    "args.snapshot_save_dir = os.path.join(args.save_dir, datetime.datetime.now().strftime('%Y-%m-%d_%H-%M-%S'))\n",
    "\n",
    "# model\n",
    "cnn = model_cnn.CNN_Text(args)\n",
    "train.train(train_iter, dev_iter, cnn, args)"
   ]
  },
  {
   "cell_type": "markdown",
   "metadata": {},
   "source": [
    "Final Evaluation"
   ]
  },
  {
   "cell_type": "code",
   "execution_count": 4,
   "metadata": {},
   "outputs": [
    {
     "name": "stdout",
     "output_type": "stream",
     "text": [
      "\nEvaluation - loss: 0.576529  acc: 73.4522%(783/1066) \n\n"
     ]
    },
    {
     "data": {
      "text/plain": [
       "(0.5765285241447291, 73.45215759849906, 783, 1066)"
      ]
     },
     "execution_count": 4,
     "metadata": {},
     "output_type": "execute_result"
    }
   ],
   "source": [
    "train.eval(dev_iter, cnn, args)"
   ]
  },
  {
   "cell_type": "code",
   "execution_count": null,
   "metadata": {},
   "outputs": [],
   "source": [
    ""
   ]
  }
 ],
 "metadata": {
  "kernelspec": {
   "display_name": "Python 2",
   "language": "python",
   "name": "python2"
  },
  "language_info": {
   "codemirror_mode": {
    "name": "ipython",
    "version": 2.0
   },
   "file_extension": ".py",
   "mimetype": "text/x-python",
   "name": "python",
   "nbconvert_exporter": "python",
   "pygments_lexer": "ipython2",
   "version": "2.7.6"
  }
 },
 "nbformat": 4,
 "nbformat_minor": 0
}